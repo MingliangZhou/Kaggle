{
 "cells": [
  {
   "cell_type": "markdown",
   "metadata": {},
   "source": [
    "# Data"
   ]
  },
  {
   "cell_type": "markdown",
   "metadata": {},
   "source": [
    "## Read"
   ]
  },
  {
   "cell_type": "code",
   "execution_count": 2,
   "metadata": {},
   "outputs": [
    {
     "name": "stdout",
     "output_type": "stream",
     "text": [
      "<class 'pandas.core.frame.DataFrame'>\n",
      "RangeIndex: 42000 entries, 0 to 41999\n",
      "Columns: 785 entries, label to pixel783\n",
      "dtypes: int64(785)\n",
      "memory usage: 251.5 MB\n"
     ]
    }
   ],
   "source": [
    "import pandas as pd\n",
    "import numpy as np\n",
    "\n",
    "df_train = pd.read_csv('../input/train.csv')\n",
    "df_train.info()"
   ]
  },
  {
   "cell_type": "code",
   "execution_count": 3,
   "metadata": {},
   "outputs": [
    {
     "name": "stdout",
     "output_type": "stream",
     "text": [
      "<class 'pandas.core.frame.DataFrame'>\n",
      "RangeIndex: 28000 entries, 0 to 27999\n",
      "Columns: 784 entries, pixel0 to pixel783\n",
      "dtypes: int64(784)\n",
      "memory usage: 167.5 MB\n"
     ]
    }
   ],
   "source": [
    "df_test = pd.read_csv('../input/test.csv')\n",
    "df_test.info()"
   ]
  },
  {
   "cell_type": "code",
   "execution_count": 42,
   "metadata": {},
   "outputs": [
    {
     "data": {
      "text/plain": [
       "(42000, 784)"
      ]
     },
     "execution_count": 42,
     "metadata": {},
     "output_type": "execute_result"
    }
   ],
   "source": [
    "X_train = df_train.values[:,1:]\n",
    "X_train.shape"
   ]
  },
  {
   "cell_type": "code",
   "execution_count": 43,
   "metadata": {},
   "outputs": [
    {
     "data": {
      "text/plain": [
       "(42000,)"
      ]
     },
     "execution_count": 43,
     "metadata": {},
     "output_type": "execute_result"
    }
   ],
   "source": [
    "y_train = df_train.values[:,0]\n",
    "y_train.shape"
   ]
  },
  {
   "cell_type": "code",
   "execution_count": 44,
   "metadata": {},
   "outputs": [
    {
     "data": {
      "text/plain": [
       "(28000, 784)"
      ]
     },
     "execution_count": 44,
     "metadata": {},
     "output_type": "execute_result"
    }
   ],
   "source": [
    "X_test = df_test.values\n",
    "X_test.shape"
   ]
  },
  {
   "cell_type": "markdown",
   "metadata": {},
   "source": [
    "## First look"
   ]
  },
  {
   "cell_type": "code",
   "execution_count": 19,
   "metadata": {},
   "outputs": [],
   "source": [
    "import matplotlib\n",
    "import matplotlib.pyplot as plt\n",
    "%matplotlib inline\n",
    "\n",
    "from jupyterthemes import jtplot\n",
    "jtplot.style(theme='grade3')"
   ]
  },
  {
   "cell_type": "code",
   "execution_count": 20,
   "metadata": {},
   "outputs": [
    {
     "data": {
      "text/plain": [
       "Text(0.5,1,'This is 4')"
      ]
     },
     "execution_count": 20,
     "metadata": {},
     "output_type": "execute_result"
    },
    {
     "data": {
      "image/png": "[encoded data removed]",
      "text/plain": [
       "<matplotlib.figure.Figure at 0x11ef65400>"
      ]
     },
     "metadata": {},
     "output_type": "display_data"
    }
   ],
   "source": [
    "plt.imshow(X_train[3].reshape(28,28), cmap='gray')\n",
    "plt.grid(False)\n",
    "plt.title(\"This is {}\".format(y_train[3]))"
   ]
  },
  {
   "cell_type": "markdown",
   "metadata": {},
   "source": [
    "# Pre-processing"
   ]
  },
  {
   "cell_type": "markdown",
   "metadata": {},
   "source": [
    "## Scaling"
   ]
  },
  {
   "cell_type": "code",
   "execution_count": 45,
   "metadata": {},
   "outputs": [
    {
     "data": {
      "text/plain": [
       "255"
      ]
     },
     "execution_count": 45,
     "metadata": {},
     "output_type": "execute_result"
    }
   ],
   "source": [
    "max_sig = np.max(X_train)\n",
    "max_sig"
   ]
  },
  {
   "cell_type": "code",
   "execution_count": 46,
   "metadata": {},
   "outputs": [],
   "source": [
    "X_train = X_train / max_sig\n",
    "X_test = X_test / max_sig"
   ]
  },
  {
   "cell_type": "markdown",
   "metadata": {},
   "source": [
    "## PCA"
   ]
  },
  {
   "cell_type": "code",
   "execution_count": 36,
   "metadata": {},
   "outputs": [],
   "source": [
    "from sklearn.decomposition import PCA\n",
    "pca = PCA(n_components=100)\n",
    "pca.fit(X_train)\n",
    "pca_results = pca.explained_variance_ratio_"
   ]
  },
  {
   "cell_type": "code",
   "execution_count": 37,
   "metadata": {},
   "outputs": [
    {
     "data": {
      "text/plain": [
       "(1e-06, 1)"
      ]
     },
     "execution_count": 37,
     "metadata": {},
     "output_type": "execute_result"
    },
    {
     "data": {
      "image/png": "[encoded data removed]",
      "text/plain": [
       "<matplotlib.figure.Figure at 0x11fc39470>"
      ]
     },
     "metadata": {},
     "output_type": "display_data"
    }
   ],
   "source": [
    "plt.semilogy(range(len(pca_results)), pca_results, 'bo')\n",
    "plt.ylim([1e-6,1])"
   ]
  },
  {
   "cell_type": "code",
   "execution_count": 38,
   "metadata": {},
   "outputs": [
    {
     "data": {
      "text/plain": [
       "(42000, 100)"
      ]
     },
     "execution_count": 38,
     "metadata": {},
     "output_type": "execute_result"
    }
   ],
   "source": [
    "X_train = pca.transform(X_train)\n",
    "X_train.shape"
   ]
  },
  {
   "cell_type": "markdown",
   "metadata": {},
   "source": [
    "# Models"
   ]
  },
  {
   "cell_type": "markdown",
   "metadata": {},
   "source": [
    "## DNN"
   ]
  },
  {
   "cell_type": "code",
   "execution_count": 50,
   "metadata": {},
   "outputs": [],
   "source": [
    "import tensorflow as tf\n",
    "from tensorflow import keras\n",
    "\n",
    "dnn = keras.Sequential([\n",
    "    keras.layers.Dense(units=300, activation='relu'),\n",
    "    keras.layers.Dense(units=100, activation='relu'),\n",
    "    keras.layers.Dropout(0.2),\n",
    "    keras.layers.Dense(units=10, activation='softmax'),\n",
    "])"
   ]
  },
  {
   "cell_type": "code",
   "execution_count": 51,
   "metadata": {},
   "outputs": [],
   "source": [
    "dnn.compile(optimizer=tf.keras.optimizers.Adam(),\n",
    "           loss=tf.keras.losses.sparse_categorical_crossentropy,\n",
    "           metrics=['accuracy'])"
   ]
  },
  {
   "cell_type": "code",
   "execution_count": 52,
   "metadata": {},
   "outputs": [
    {
     "name": "stdout",
     "output_type": "stream",
     "text": [
      "Train on 33600 samples, validate on 8400 samples\n",
      "Epoch 1/50\n",
      "33600/33600 [==============================] - 4s 131us/step - loss: 0.2821 - acc: 0.9163 - val_loss: 0.1555 - val_acc: 0.9515\n",
      "Epoch 2/50\n",
      "33600/33600 [==============================] - 4s 116us/step - loss: 0.1191 - acc: 0.9639 - val_loss: 0.1153 - val_acc: 0.9644\n",
      "Epoch 3/50\n",
      "33600/33600 [==============================] - 4s 127us/step - loss: 0.0812 - acc: 0.9749 - val_loss: 0.0829 - val_acc: 0.9733\n",
      "Epoch 4/50\n",
      "33600/33600 [==============================] - 4s 111us/step - loss: 0.0582 - acc: 0.9811 - val_loss: 0.0879 - val_acc: 0.9750\n",
      "Epoch 5/50\n",
      "33600/33600 [==============================] - 4s 121us/step - loss: 0.0441 - acc: 0.9859 - val_loss: 0.0958 - val_acc: 0.9740\n",
      "Epoch 6/50\n",
      "33600/33600 [==============================] - 4s 122us/step - loss: 0.0368 - acc: 0.9888 - val_loss: 0.0871 - val_acc: 0.9760\n",
      "Epoch 7/50\n",
      "33600/33600 [==============================] - 4s 120us/step - loss: 0.0303 - acc: 0.9899 - val_loss: 0.1150 - val_acc: 0.9729\n",
      "Epoch 8/50\n",
      "33600/33600 [==============================] - 4s 126us/step - loss: 0.0264 - acc: 0.9917 - val_loss: 0.1072 - val_acc: 0.9754\n",
      "Epoch 9/50\n",
      "33600/33600 [==============================] - 5s 138us/step - loss: 0.0240 - acc: 0.9923 - val_loss: 0.1082 - val_acc: 0.9749\n",
      "Epoch 10/50\n",
      "33600/33600 [==============================] - 4s 131us/step - loss: 0.0223 - acc: 0.9926 - val_loss: 0.1161 - val_acc: 0.9744\n",
      "Epoch 11/50\n",
      "33600/33600 [==============================] - 4s 124us/step - loss: 0.0198 - acc: 0.9931 - val_loss: 0.1231 - val_acc: 0.9749\n",
      "Epoch 12/50\n",
      "33600/33600 [==============================] - 4s 125us/step - loss: 0.0195 - acc: 0.9930 - val_loss: 0.1165 - val_acc: 0.9762\n",
      "Epoch 13/50\n",
      "33600/33600 [==============================] - 4s 118us/step - loss: 0.0177 - acc: 0.9940 - val_loss: 0.1102 - val_acc: 0.9755\n",
      "Epoch 14/50\n",
      "33600/33600 [==============================] - 4s 116us/step - loss: 0.0111 - acc: 0.9964 - val_loss: 0.1474 - val_acc: 0.9713\n",
      "Epoch 15/50\n",
      "33600/33600 [==============================] - 4s 114us/step - loss: 0.0139 - acc: 0.9952 - val_loss: 0.1108 - val_acc: 0.9777\n",
      "Epoch 16/50\n",
      "33600/33600 [==============================] - 4s 118us/step - loss: 0.0159 - acc: 0.9948 - val_loss: 0.1396 - val_acc: 0.9743\n",
      "Epoch 17/50\n",
      "33600/33600 [==============================] - 4s 120us/step - loss: 0.0128 - acc: 0.9962 - val_loss: 0.1184 - val_acc: 0.9799\n",
      "Epoch 18/50\n",
      "33600/33600 [==============================] - 4s 116us/step - loss: 0.0142 - acc: 0.9954 - val_loss: 0.1362 - val_acc: 0.9750\n",
      "Epoch 19/50\n",
      "33600/33600 [==============================] - 4s 113us/step - loss: 0.0095 - acc: 0.9968 - val_loss: 0.1382 - val_acc: 0.9775\n",
      "Epoch 20/50\n",
      "33600/33600 [==============================] - 4s 118us/step - loss: 0.0121 - acc: 0.9965 - val_loss: 0.1445 - val_acc: 0.9763\n",
      "Epoch 21/50\n",
      "33600/33600 [==============================] - 4s 121us/step - loss: 0.0127 - acc: 0.9962 - val_loss: 0.1664 - val_acc: 0.9726\n",
      "Epoch 22/50\n",
      "33600/33600 [==============================] - 4s 121us/step - loss: 0.0110 - acc: 0.9964 - val_loss: 0.1418 - val_acc: 0.9774\n",
      "Epoch 23/50\n",
      "33600/33600 [==============================] - 4s 119us/step - loss: 0.0088 - acc: 0.9973 - val_loss: 0.1472 - val_acc: 0.9760\n",
      "Epoch 24/50\n",
      "33600/33600 [==============================] - 4s 119us/step - loss: 0.0093 - acc: 0.9971 - val_loss: 0.1378 - val_acc: 0.9782\n",
      "Epoch 25/50\n",
      "33600/33600 [==============================] - 4s 122us/step - loss: 0.0111 - acc: 0.9965 - val_loss: 0.1367 - val_acc: 0.9790\n",
      "Epoch 26/50\n",
      "33600/33600 [==============================] - 4s 121us/step - loss: 0.0108 - acc: 0.9970 - val_loss: 0.1569 - val_acc: 0.9750\n",
      "Epoch 27/50\n",
      "33600/33600 [==============================] - 4s 119us/step - loss: 0.0074 - acc: 0.9978 - val_loss: 0.1345 - val_acc: 0.9782\n",
      "Epoch 28/50\n",
      "33600/33600 [==============================] - 4s 118us/step - loss: 0.0089 - acc: 0.9975 - val_loss: 0.1519 - val_acc: 0.9758\n",
      "Epoch 29/50\n",
      "33600/33600 [==============================] - 4s 121us/step - loss: 0.0107 - acc: 0.9964 - val_loss: 0.1630 - val_acc: 0.9763\n",
      "Epoch 30/50\n",
      "33600/33600 [==============================] - 4s 120us/step - loss: 0.0058 - acc: 0.9985 - val_loss: 0.1583 - val_acc: 0.9777\n",
      "Epoch 31/50\n",
      "33600/33600 [==============================] - 4s 121us/step - loss: 0.0094 - acc: 0.9973 - val_loss: 0.1495 - val_acc: 0.9788\n",
      "Epoch 32/50\n",
      "33600/33600 [==============================] - 4s 122us/step - loss: 0.0106 - acc: 0.9970 - val_loss: 0.1680 - val_acc: 0.9767\n",
      "Epoch 33/50\n",
      "33600/33600 [==============================] - 4s 121us/step - loss: 0.0124 - acc: 0.9969 - val_loss: 0.1726 - val_acc: 0.9769\n",
      "Epoch 34/50\n",
      "33600/33600 [==============================] - 4s 131us/step - loss: 0.0105 - acc: 0.9967 - val_loss: 0.1600 - val_acc: 0.9761\n",
      "Epoch 35/50\n",
      "33600/33600 [==============================] - 4s 123us/step - loss: 0.0056 - acc: 0.9984 - val_loss: 0.1595 - val_acc: 0.9770\n",
      "Epoch 36/50\n",
      "33600/33600 [==============================] - 4s 122us/step - loss: 0.0055 - acc: 0.9985 - val_loss: 0.1614 - val_acc: 0.9788\n",
      "Epoch 37/50\n",
      "33600/33600 [==============================] - 4s 121us/step - loss: 0.0087 - acc: 0.9975 - val_loss: 0.1598 - val_acc: 0.9783\n",
      "Epoch 38/50\n",
      "33600/33600 [==============================] - 5s 135us/step - loss: 0.0093 - acc: 0.9975 - val_loss: 0.1640 - val_acc: 0.9779\n",
      "Epoch 39/50\n",
      "33600/33600 [==============================] - 4s 124us/step - loss: 0.0076 - acc: 0.9981 - val_loss: 0.1624 - val_acc: 0.9776\n",
      "Epoch 40/50\n",
      "33600/33600 [==============================] - 4s 127us/step - loss: 0.0068 - acc: 0.9982 - val_loss: 0.1816 - val_acc: 0.9763\n",
      "Epoch 41/50\n",
      "33600/33600 [==============================] - 4s 121us/step - loss: 0.0113 - acc: 0.9971 - val_loss: 0.1667 - val_acc: 0.9776\n",
      "Epoch 42/50\n",
      "33600/33600 [==============================] - 4s 120us/step - loss: 0.0042 - acc: 0.9989 - val_loss: 0.1759 - val_acc: 0.9765\n",
      "Epoch 43/50\n",
      "33600/33600 [==============================] - 4s 121us/step - loss: 0.0060 - acc: 0.9984 - val_loss: 0.1936 - val_acc: 0.9736\n",
      "Epoch 44/50\n",
      "33600/33600 [==============================] - 4s 122us/step - loss: 0.0104 - acc: 0.9976 - val_loss: 0.1683 - val_acc: 0.9794\n",
      "Epoch 45/50\n",
      "33600/33600 [==============================] - 4s 132us/step - loss: 0.0075 - acc: 0.9979 - val_loss: 0.1721 - val_acc: 0.9774\n",
      "Epoch 46/50\n",
      "33600/33600 [==============================] - 4s 123us/step - loss: 0.0089 - acc: 0.9977 - val_loss: 0.1648 - val_acc: 0.9789\n",
      "Epoch 47/50\n",
      "33600/33600 [==============================] - 4s 122us/step - loss: 0.0059 - acc: 0.9982 - val_loss: 0.2368 - val_acc: 0.9720\n",
      "Epoch 48/50\n",
      "33600/33600 [==============================] - 4s 124us/step - loss: 0.0096 - acc: 0.9977 - val_loss: 0.1877 - val_acc: 0.9761\n",
      "Epoch 49/50\n",
      "33600/33600 [==============================] - 4s 121us/step - loss: 0.0085 - acc: 0.9980 - val_loss: 0.1850 - val_acc: 0.9773\n",
      "Epoch 50/50\n",
      "33600/33600 [==============================] - 5s 135us/step - loss: 0.0091 - acc: 0.9977 - val_loss: 0.1851 - val_acc: 0.9782\n"
     ]
    }
   ],
   "source": [
    "dnn_history = dnn.fit(X_train, y_train, epochs=50, validation_split=0.2)"
   ]
  },
  {
   "cell_type": "code",
   "execution_count": 14,
   "metadata": {},
   "outputs": [],
   "source": [
    "acc = dnn_history.history['acc']\n",
    "val_acc = dnn_history.history['val_acc']\n",
    "epochs = range(1, len(acc)+1)"
   ]
  },
  {
   "cell_type": "code",
   "execution_count": 67,
   "metadata": {},
   "outputs": [
    {
     "ename": "ValueError",
     "evalue": "x and y must have same first dimension, but have shapes (50,) and (1,)",
     "output_type": "error",
     "traceback": [
      "\u001b[0;31m---------------------------------------------------------------------------\u001b[0m",
      "\u001b[0;31mValueError\u001b[0m                                Traceback (most recent call last)",
      "\u001b[0;32m<ipython-input-67-402fff490c54>\u001b[0m in \u001b[0;36m<module>\u001b[0;34m()\u001b[0m\n\u001b[0;32m----> 1\u001b[0;31m \u001b[0mplt\u001b[0m\u001b[0;34m.\u001b[0m\u001b[0mplot\u001b[0m\u001b[0;34m(\u001b[0m\u001b[0mepochs\u001b[0m\u001b[0;34m,\u001b[0m \u001b[0macc\u001b[0m\u001b[0;34m,\u001b[0m \u001b[0;34m'bo'\u001b[0m\u001b[0;34m,\u001b[0m \u001b[0mlabel\u001b[0m\u001b[0;34m=\u001b[0m\u001b[0;34m'Training acc'\u001b[0m\u001b[0;34m)\u001b[0m\u001b[0;34m\u001b[0m\u001b[0m\n\u001b[0m\u001b[1;32m      2\u001b[0m \u001b[0mplt\u001b[0m\u001b[0;34m.\u001b[0m\u001b[0mplot\u001b[0m\u001b[0;34m(\u001b[0m\u001b[0mepochs\u001b[0m\u001b[0;34m,\u001b[0m \u001b[0mval_acc\u001b[0m\u001b[0;34m,\u001b[0m \u001b[0;34m'b'\u001b[0m\u001b[0;34m,\u001b[0m \u001b[0mlabel\u001b[0m\u001b[0;34m=\u001b[0m\u001b[0;34m'Validation acc'\u001b[0m\u001b[0;34m)\u001b[0m\u001b[0;34m\u001b[0m\u001b[0m\n\u001b[1;32m      3\u001b[0m \u001b[0mplt\u001b[0m\u001b[0;34m.\u001b[0m\u001b[0mtitle\u001b[0m\u001b[0;34m(\u001b[0m\u001b[0;34m'DNN'\u001b[0m\u001b[0;34m)\u001b[0m\u001b[0;34m\u001b[0m\u001b[0m\n\u001b[1;32m      4\u001b[0m \u001b[0mplt\u001b[0m\u001b[0;34m.\u001b[0m\u001b[0mxlabel\u001b[0m\u001b[0;34m(\u001b[0m\u001b[0;34m'Epochs'\u001b[0m\u001b[0;34m)\u001b[0m\u001b[0;34m\u001b[0m\u001b[0m\n\u001b[1;32m      5\u001b[0m \u001b[0mplt\u001b[0m\u001b[0;34m.\u001b[0m\u001b[0mylabel\u001b[0m\u001b[0;34m(\u001b[0m\u001b[0;34m'Accuracy'\u001b[0m\u001b[0;34m)\u001b[0m\u001b[0;34m\u001b[0m\u001b[0m\n",
      "\u001b[0;32m/usr/local/lib/python3.6/site-packages/matplotlib/pyplot.py\u001b[0m in \u001b[0;36mplot\u001b[0;34m(*args, **kwargs)\u001b[0m\n\u001b[1;32m   3238\u001b[0m                       mplDeprecation)\n\u001b[1;32m   3239\u001b[0m     \u001b[0;32mtry\u001b[0m\u001b[0;34m:\u001b[0m\u001b[0;34m\u001b[0m\u001b[0m\n\u001b[0;32m-> 3240\u001b[0;31m         \u001b[0mret\u001b[0m \u001b[0;34m=\u001b[0m \u001b[0max\u001b[0m\u001b[0;34m.\u001b[0m\u001b[0mplot\u001b[0m\u001b[0;34m(\u001b[0m\u001b[0;34m*\u001b[0m\u001b[0margs\u001b[0m\u001b[0;34m,\u001b[0m \u001b[0;34m**\u001b[0m\u001b[0mkwargs\u001b[0m\u001b[0;34m)\u001b[0m\u001b[0;34m\u001b[0m\u001b[0m\n\u001b[0m\u001b[1;32m   3241\u001b[0m     \u001b[0;32mfinally\u001b[0m\u001b[0;34m:\u001b[0m\u001b[0;34m\u001b[0m\u001b[0m\n\u001b[1;32m   3242\u001b[0m         \u001b[0max\u001b[0m\u001b[0;34m.\u001b[0m\u001b[0m_hold\u001b[0m \u001b[0;34m=\u001b[0m \u001b[0mwashold\u001b[0m\u001b[0;34m\u001b[0m\u001b[0m\n",
      "\u001b[0;32m/usr/local/lib/python3.6/site-packages/matplotlib/__init__.py\u001b[0m in \u001b[0;36minner\u001b[0;34m(ax, *args, **kwargs)\u001b[0m\n\u001b[1;32m   1708\u001b[0m                     warnings.warn(msg % (label_namer, func.__name__),\n\u001b[1;32m   1709\u001b[0m                                   RuntimeWarning, stacklevel=2)\n\u001b[0;32m-> 1710\u001b[0;31m             \u001b[0;32mreturn\u001b[0m \u001b[0mfunc\u001b[0m\u001b[0;34m(\u001b[0m\u001b[0max\u001b[0m\u001b[0;34m,\u001b[0m \u001b[0;34m*\u001b[0m\u001b[0margs\u001b[0m\u001b[0;34m,\u001b[0m \u001b[0;34m**\u001b[0m\u001b[0mkwargs\u001b[0m\u001b[0;34m)\u001b[0m\u001b[0;34m\u001b[0m\u001b[0m\n\u001b[0m\u001b[1;32m   1711\u001b[0m         \u001b[0mpre_doc\u001b[0m \u001b[0;34m=\u001b[0m \u001b[0minner\u001b[0m\u001b[0;34m.\u001b[0m\u001b[0m__doc__\u001b[0m\u001b[0;34m\u001b[0m\u001b[0m\n\u001b[1;32m   1712\u001b[0m         \u001b[0;32mif\u001b[0m \u001b[0mpre_doc\u001b[0m \u001b[0;32mis\u001b[0m \u001b[0;32mNone\u001b[0m\u001b[0;34m:\u001b[0m\u001b[0;34m\u001b[0m\u001b[0m\n",
      "\u001b[0;32m/usr/local/lib/python3.6/site-packages/matplotlib/axes/_axes.py\u001b[0m in \u001b[0;36mplot\u001b[0;34m(self, *args, **kwargs)\u001b[0m\n\u001b[1;32m   1435\u001b[0m         \u001b[0mkwargs\u001b[0m \u001b[0;34m=\u001b[0m \u001b[0mcbook\u001b[0m\u001b[0;34m.\u001b[0m\u001b[0mnormalize_kwargs\u001b[0m\u001b[0;34m(\u001b[0m\u001b[0mkwargs\u001b[0m\u001b[0;34m,\u001b[0m \u001b[0m_alias_map\u001b[0m\u001b[0;34m)\u001b[0m\u001b[0;34m\u001b[0m\u001b[0m\n\u001b[1;32m   1436\u001b[0m \u001b[0;34m\u001b[0m\u001b[0m\n\u001b[0;32m-> 1437\u001b[0;31m         \u001b[0;32mfor\u001b[0m \u001b[0mline\u001b[0m \u001b[0;32min\u001b[0m \u001b[0mself\u001b[0m\u001b[0;34m.\u001b[0m\u001b[0m_get_lines\u001b[0m\u001b[0;34m(\u001b[0m\u001b[0;34m*\u001b[0m\u001b[0margs\u001b[0m\u001b[0;34m,\u001b[0m \u001b[0;34m**\u001b[0m\u001b[0mkwargs\u001b[0m\u001b[0;34m)\u001b[0m\u001b[0;34m:\u001b[0m\u001b[0;34m\u001b[0m\u001b[0m\n\u001b[0m\u001b[1;32m   1438\u001b[0m             \u001b[0mself\u001b[0m\u001b[0;34m.\u001b[0m\u001b[0madd_line\u001b[0m\u001b[0;34m(\u001b[0m\u001b[0mline\u001b[0m\u001b[0;34m)\u001b[0m\u001b[0;34m\u001b[0m\u001b[0m\n\u001b[1;32m   1439\u001b[0m             \u001b[0mlines\u001b[0m\u001b[0;34m.\u001b[0m\u001b[0mappend\u001b[0m\u001b[0;34m(\u001b[0m\u001b[0mline\u001b[0m\u001b[0;34m)\u001b[0m\u001b[0;34m\u001b[0m\u001b[0m\n",
      "\u001b[0;32m/usr/local/lib/python3.6/site-packages/matplotlib/axes/_base.py\u001b[0m in \u001b[0;36m_grab_next_args\u001b[0;34m(self, *args, **kwargs)\u001b[0m\n\u001b[1;32m    402\u001b[0m                 \u001b[0mthis\u001b[0m \u001b[0;34m+=\u001b[0m \u001b[0margs\u001b[0m\u001b[0;34m[\u001b[0m\u001b[0;36m0\u001b[0m\u001b[0;34m]\u001b[0m\u001b[0;34m,\u001b[0m\u001b[0;34m\u001b[0m\u001b[0m\n\u001b[1;32m    403\u001b[0m                 \u001b[0margs\u001b[0m \u001b[0;34m=\u001b[0m \u001b[0margs\u001b[0m\u001b[0;34m[\u001b[0m\u001b[0;36m1\u001b[0m\u001b[0;34m:\u001b[0m\u001b[0;34m]\u001b[0m\u001b[0;34m\u001b[0m\u001b[0m\n\u001b[0;32m--> 404\u001b[0;31m             \u001b[0;32mfor\u001b[0m \u001b[0mseg\u001b[0m \u001b[0;32min\u001b[0m \u001b[0mself\u001b[0m\u001b[0;34m.\u001b[0m\u001b[0m_plot_args\u001b[0m\u001b[0;34m(\u001b[0m\u001b[0mthis\u001b[0m\u001b[0;34m,\u001b[0m \u001b[0mkwargs\u001b[0m\u001b[0;34m)\u001b[0m\u001b[0;34m:\u001b[0m\u001b[0;34m\u001b[0m\u001b[0m\n\u001b[0m\u001b[1;32m    405\u001b[0m                 \u001b[0;32myield\u001b[0m \u001b[0mseg\u001b[0m\u001b[0;34m\u001b[0m\u001b[0m\n\u001b[1;32m    406\u001b[0m \u001b[0;34m\u001b[0m\u001b[0m\n",
      "\u001b[0;32m/usr/local/lib/python3.6/site-packages/matplotlib/axes/_base.py\u001b[0m in \u001b[0;36m_plot_args\u001b[0;34m(self, tup, kwargs)\u001b[0m\n\u001b[1;32m    382\u001b[0m             \u001b[0mx\u001b[0m\u001b[0;34m,\u001b[0m \u001b[0my\u001b[0m \u001b[0;34m=\u001b[0m \u001b[0mindex_of\u001b[0m\u001b[0;34m(\u001b[0m\u001b[0mtup\u001b[0m\u001b[0;34m[\u001b[0m\u001b[0;34m-\u001b[0m\u001b[0;36m1\u001b[0m\u001b[0;34m]\u001b[0m\u001b[0;34m)\u001b[0m\u001b[0;34m\u001b[0m\u001b[0m\n\u001b[1;32m    383\u001b[0m \u001b[0;34m\u001b[0m\u001b[0m\n\u001b[0;32m--> 384\u001b[0;31m         \u001b[0mx\u001b[0m\u001b[0;34m,\u001b[0m \u001b[0my\u001b[0m \u001b[0;34m=\u001b[0m \u001b[0mself\u001b[0m\u001b[0;34m.\u001b[0m\u001b[0m_xy_from_xy\u001b[0m\u001b[0;34m(\u001b[0m\u001b[0mx\u001b[0m\u001b[0;34m,\u001b[0m \u001b[0my\u001b[0m\u001b[0;34m)\u001b[0m\u001b[0;34m\u001b[0m\u001b[0m\n\u001b[0m\u001b[1;32m    385\u001b[0m \u001b[0;34m\u001b[0m\u001b[0m\n\u001b[1;32m    386\u001b[0m         \u001b[0;32mif\u001b[0m \u001b[0mself\u001b[0m\u001b[0;34m.\u001b[0m\u001b[0mcommand\u001b[0m \u001b[0;34m==\u001b[0m \u001b[0;34m'plot'\u001b[0m\u001b[0;34m:\u001b[0m\u001b[0;34m\u001b[0m\u001b[0m\n",
      "\u001b[0;32m/usr/local/lib/python3.6/site-packages/matplotlib/axes/_base.py\u001b[0m in \u001b[0;36m_xy_from_xy\u001b[0;34m(self, x, y)\u001b[0m\n\u001b[1;32m    241\u001b[0m         \u001b[0;32mif\u001b[0m \u001b[0mx\u001b[0m\u001b[0;34m.\u001b[0m\u001b[0mshape\u001b[0m\u001b[0;34m[\u001b[0m\u001b[0;36m0\u001b[0m\u001b[0;34m]\u001b[0m \u001b[0;34m!=\u001b[0m \u001b[0my\u001b[0m\u001b[0;34m.\u001b[0m\u001b[0mshape\u001b[0m\u001b[0;34m[\u001b[0m\u001b[0;36m0\u001b[0m\u001b[0;34m]\u001b[0m\u001b[0;34m:\u001b[0m\u001b[0;34m\u001b[0m\u001b[0m\n\u001b[1;32m    242\u001b[0m             raise ValueError(\"x and y must have same first dimension, but \"\n\u001b[0;32m--> 243\u001b[0;31m                              \"have shapes {} and {}\".format(x.shape, y.shape))\n\u001b[0m\u001b[1;32m    244\u001b[0m         \u001b[0;32mif\u001b[0m \u001b[0mx\u001b[0m\u001b[0;34m.\u001b[0m\u001b[0mndim\u001b[0m \u001b[0;34m>\u001b[0m \u001b[0;36m2\u001b[0m \u001b[0;32mor\u001b[0m \u001b[0my\u001b[0m\u001b[0;34m.\u001b[0m\u001b[0mndim\u001b[0m \u001b[0;34m>\u001b[0m \u001b[0;36m2\u001b[0m\u001b[0;34m:\u001b[0m\u001b[0;34m\u001b[0m\u001b[0m\n\u001b[1;32m    245\u001b[0m             raise ValueError(\"x and y can be no greater than 2-D, but have \"\n",
      "\u001b[0;31mValueError\u001b[0m: x and y must have same first dimension, but have shapes (50,) and (1,)"
     ]
    },
    {
     "data": {
      "image/png": "[encoded data removed]",
      "text/plain": [
       "<matplotlib.figure.Figure at 0x12496b5f8>"
      ]
     },
     "metadata": {},
     "output_type": "display_data"
    }
   ],
   "source": [
    "plt.plot(epochs, acc, 'bo', label='Training acc')\n",
    "plt.plot(epochs, val_acc, 'b', label='Validation acc')\n",
    "plt.title('DNN')\n",
    "plt.xlabel('Epochs')\n",
    "plt.ylabel('Accuracy')\n",
    "plt.ylim([0.9,1])\n",
    "plt.legend()"
   ]
  },
  {
   "cell_type": "code",
   "execution_count": 23,
   "metadata": {},
   "outputs": [],
   "source": [
    "dnn.save('../save/dnn.h5')"
   ]
  },
  {
   "cell_type": "code",
   "execution_count": 25,
   "metadata": {},
   "outputs": [
    {
     "name": "stdout",
     "output_type": "stream",
     "text": [
      "_________________________________________________________________\n",
      "Layer (type)                 Output Shape              Param #   \n",
      "=================================================================\n",
      "dense (Dense)                (None, 300)               235500    \n",
      "_________________________________________________________________\n",
      "dense_1 (Dense)              (None, 100)               30100     \n",
      "_________________________________________________________________\n",
      "dropout (Dropout)            (None, 100)               0         \n",
      "_________________________________________________________________\n",
      "dense_2 (Dense)              (None, 10)                1010      \n",
      "=================================================================\n",
      "Total params: 266,610\n",
      "Trainable params: 266,610\n",
      "Non-trainable params: 0\n",
      "_________________________________________________________________\n"
     ]
    }
   ],
   "source": [
    "new_dnn = keras.models.load_model('../save/dnn.h5')\n",
    "new_dnn.summary()"
   ]
  },
  {
   "cell_type": "code",
   "execution_count": 27,
   "metadata": {},
   "outputs": [
    {
     "name": "stdout",
     "output_type": "stream",
     "text": [
      "42000/42000 [==============================] - 1s 25us/step\n",
      "Restored model, accuracy: 99.36%\n"
     ]
    }
   ],
   "source": [
    "loss, acc = dnn.evaluate(X_train, y_train)\n",
    "print(\"Restored model, accuracy: {:5.2f}%\".format(100*acc))"
   ]
  },
  {
   "cell_type": "code",
   "execution_count": 26,
   "metadata": {},
   "outputs": [
    {
     "name": "stdout",
     "output_type": "stream",
     "text": [
      "42000/42000 [==============================] - 1s 26us/step\n",
      "Restored model, accuracy: 99.36%\n"
     ]
    }
   ],
   "source": [
    "loss, acc = new_dnn.evaluate(X_train, y_train)\n",
    "print(\"Restored model, accuracy: {:5.2f}%\".format(100*acc))"
   ]
  },
  {
   "cell_type": "markdown",
   "metadata": {},
   "source": [
    "## CNN"
   ]
  },
  {
   "cell_type": "code",
   "execution_count": 68,
   "metadata": {},
   "outputs": [],
   "source": [
    "cnn = keras.Sequential([\n",
    "    keras.layers.Conv2D(32, kernel_size=(5,5), strides=(1,1), activation='relu'),\n",
    "    keras.layers.MaxPooling2D(pool_size=(2,2), strides=(2,2)),\n",
    "    keras.layers.Dropout(0.2),\n",
    "    keras.layers.Conv2D(64, kernel_size=(5,5), strides=(1,1), activation='relu'),\n",
    "    keras.layers.MaxPooling2D(pool_size=(2,2), strides=(1,1)),\n",
    "    keras.layers.Dropout(0.2),\n",
    "    keras.layers.Flatten(),\n",
    "    keras.layers.Dense(256, activation='relu'),\n",
    "    keras.layers.Dropout(0.4),\n",
    "    keras.layers.Dense(10, activation='softmax'),\n",
    "])"
   ]
  },
  {
   "cell_type": "code",
   "execution_count": 69,
   "metadata": {},
   "outputs": [],
   "source": [
    "cnn.compile(optimizer=tf.keras.optimizers.Adam(),\n",
    "           loss=tf.keras.losses.sparse_categorical_crossentropy,\n",
    "           metrics=['accuracy'])"
   ]
  },
  {
   "cell_type": "code",
   "execution_count": 70,
   "metadata": {},
   "outputs": [
    {
     "name": "stdout",
     "output_type": "stream",
     "text": [
      "Train on 33600 samples, validate on 8400 samples\n",
      "Epoch 1/50\n",
      "33600/33600 [==============================] - 28s 833us/step - loss: 0.1847 - acc: 0.9423 - val_loss: 0.0449 - val_acc: 0.9858\n",
      "Epoch 2/50\n",
      "33600/33600 [==============================] - 26s 776us/step - loss: 0.0626 - acc: 0.9807 - val_loss: 0.0369 - val_acc: 0.9889\n",
      "Epoch 3/50\n",
      "33600/33600 [==============================] - 30s 889us/step - loss: 0.0458 - acc: 0.9856 - val_loss: 0.0476 - val_acc: 0.9860\n",
      "Epoch 4/50\n",
      "33600/33600 [==============================] - 30s 893us/step - loss: 0.0376 - acc: 0.9887 - val_loss: 0.0349 - val_acc: 0.9905\n",
      "Epoch 5/50\n",
      "33600/33600 [==============================] - 33s 992us/step - loss: 0.0346 - acc: 0.9895 - val_loss: 0.0308 - val_acc: 0.9905\n",
      "Epoch 6/50\n",
      "33600/33600 [==============================] - 33s 989us/step - loss: 0.0286 - acc: 0.9913 - val_loss: 0.0371 - val_acc: 0.9899\n",
      "Epoch 7/50\n",
      "33600/33600 [==============================] - 34s 1ms/step - loss: 0.0276 - acc: 0.9914 - val_loss: 0.0359 - val_acc: 0.9904\n",
      "Epoch 8/50\n",
      "33600/33600 [==============================] - 34s 997us/step - loss: 0.0220 - acc: 0.9929 - val_loss: 0.0379 - val_acc: 0.9918\n",
      "Epoch 9/50\n",
      "33600/33600 [==============================] - 33s 967us/step - loss: 0.0231 - acc: 0.9926 - val_loss: 0.0341 - val_acc: 0.9914\n",
      "Epoch 10/50\n",
      "33600/33600 [==============================] - 33s 980us/step - loss: 0.0182 - acc: 0.9947 - val_loss: 0.0324 - val_acc: 0.9921\n",
      "Epoch 11/50\n",
      "33600/33600 [==============================] - 34s 1ms/step - loss: 0.0191 - acc: 0.9939 - val_loss: 0.0342 - val_acc: 0.9920\n",
      "Epoch 12/50\n",
      "33600/33600 [==============================] - 33s 975us/step - loss: 0.0176 - acc: 0.9947 - val_loss: 0.0405 - val_acc: 0.9921\n",
      "Epoch 13/50\n",
      "33600/33600 [==============================] - 33s 993us/step - loss: 0.0171 - acc: 0.9946 - val_loss: 0.0399 - val_acc: 0.9912\n",
      "Epoch 14/50\n",
      "33600/33600 [==============================] - 33s 967us/step - loss: 0.0135 - acc: 0.9959 - val_loss: 0.0358 - val_acc: 0.9936\n",
      "Epoch 15/50\n",
      "33600/33600 [==============================] - 31s 919us/step - loss: 0.0144 - acc: 0.9959 - val_loss: 0.0392 - val_acc: 0.9925\n",
      "Epoch 16/50\n",
      "33600/33600 [==============================] - 33s 982us/step - loss: 0.0129 - acc: 0.9961 - val_loss: 0.0439 - val_acc: 0.9908\n",
      "Epoch 17/50\n",
      "33600/33600 [==============================] - 31s 931us/step - loss: 0.0163 - acc: 0.9954 - val_loss: 0.0441 - val_acc: 0.9918\n",
      "Epoch 18/50\n",
      "33600/33600 [==============================] - 31s 916us/step - loss: 0.0125 - acc: 0.9960 - val_loss: 0.0465 - val_acc: 0.9908\n",
      "Epoch 19/50\n",
      "33600/33600 [==============================] - 33s 990us/step - loss: 0.0132 - acc: 0.9959 - val_loss: 0.0473 - val_acc: 0.9914\n",
      "Epoch 20/50\n",
      "33600/33600 [==============================] - 33s 986us/step - loss: 0.0131 - acc: 0.9964 - val_loss: 0.0558 - val_acc: 0.9910\n",
      "Epoch 21/50\n",
      "33600/33600 [==============================] - 37s 1ms/step - loss: 0.0125 - acc: 0.9962 - val_loss: 0.0516 - val_acc: 0.9920\n",
      "Epoch 22/50\n",
      "33600/33600 [==============================] - 33s 987us/step - loss: 0.0130 - acc: 0.9964 - val_loss: 0.0492 - val_acc: 0.9921\n",
      "Epoch 23/50\n",
      "33600/33600 [==============================] - 33s 983us/step - loss: 0.0103 - acc: 0.9966 - val_loss: 0.0511 - val_acc: 0.9918\n",
      "Epoch 24/50\n",
      "33600/33600 [==============================] - 33s 984us/step - loss: 0.0148 - acc: 0.9962 - val_loss: 0.0526 - val_acc: 0.9892\n",
      "Epoch 25/50\n",
      "33600/33600 [==============================] - 32s 949us/step - loss: 0.0132 - acc: 0.9964 - val_loss: 0.0422 - val_acc: 0.9923\n",
      "Epoch 26/50\n",
      "33600/33600 [==============================] - 33s 993us/step - loss: 0.0117 - acc: 0.9970 - val_loss: 0.0485 - val_acc: 0.9924\n",
      "Epoch 27/50\n",
      "33600/33600 [==============================] - 32s 951us/step - loss: 0.0072 - acc: 0.9977 - val_loss: 0.0596 - val_acc: 0.9914\n",
      "Epoch 28/50\n",
      "33600/33600 [==============================] - 33s 977us/step - loss: 0.0134 - acc: 0.9966 - val_loss: 0.0419 - val_acc: 0.9920\n",
      "Epoch 29/50\n",
      "33600/33600 [==============================] - 34s 1ms/step - loss: 0.0145 - acc: 0.9962 - val_loss: 0.0479 - val_acc: 0.9919\n",
      "Epoch 30/50\n",
      "33600/33600 [==============================] - 34s 1ms/step - loss: 0.0109 - acc: 0.9971 - val_loss: 0.0561 - val_acc: 0.9923\n",
      "Epoch 31/50\n",
      "33600/33600 [==============================] - 34s 1ms/step - loss: 0.0132 - acc: 0.9965 - val_loss: 0.0617 - val_acc: 0.9914\n",
      "Epoch 32/50\n",
      "33600/33600 [==============================] - 33s 989us/step - loss: 0.0119 - acc: 0.9970 - val_loss: 0.0531 - val_acc: 0.9925\n",
      "Epoch 33/50\n",
      "33600/33600 [==============================] - 33s 982us/step - loss: 0.0130 - acc: 0.9968 - val_loss: 0.0552 - val_acc: 0.9902\n",
      "Epoch 34/50\n",
      "33600/33600 [==============================] - 33s 996us/step - loss: 0.0115 - acc: 0.9973 - val_loss: 0.0572 - val_acc: 0.9923\n",
      "Epoch 35/50\n",
      "33600/33600 [==============================] - 33s 995us/step - loss: 0.0097 - acc: 0.9976 - val_loss: 0.0548 - val_acc: 0.9923\n",
      "Epoch 36/50\n",
      "33600/33600 [==============================] - 32s 966us/step - loss: 0.0101 - acc: 0.9975 - val_loss: 0.0521 - val_acc: 0.9924\n",
      "Epoch 37/50\n",
      "33600/33600 [==============================] - 34s 1ms/step - loss: 0.0117 - acc: 0.9971 - val_loss: 0.0621 - val_acc: 0.9910\n",
      "Epoch 38/50\n",
      "33600/33600 [==============================] - 33s 971us/step - loss: 0.0135 - acc: 0.9973 - val_loss: 0.0624 - val_acc: 0.9914\n",
      "Epoch 39/50\n",
      "33600/33600 [==============================] - 31s 936us/step - loss: 0.0090 - acc: 0.9975 - val_loss: 0.0559 - val_acc: 0.9939\n",
      "Epoch 40/50\n",
      "33600/33600 [==============================] - 33s 972us/step - loss: 0.0119 - acc: 0.9974 - val_loss: 0.0606 - val_acc: 0.9930\n",
      "Epoch 41/50\n",
      "33600/33600 [==============================] - 34s 1ms/step - loss: 0.0117 - acc: 0.9974 - val_loss: 0.0584 - val_acc: 0.9933\n",
      "Epoch 42/50\n",
      "33600/33600 [==============================] - 34s 1ms/step - loss: 0.0111 - acc: 0.9975 - val_loss: 0.0636 - val_acc: 0.9929\n",
      "Epoch 43/50\n",
      "33600/33600 [==============================] - 33s 994us/step - loss: 0.0105 - acc: 0.9974 - val_loss: 0.0710 - val_acc: 0.9919\n",
      "Epoch 44/50\n",
      "33600/33600 [==============================] - 35s 1ms/step - loss: 0.0137 - acc: 0.9971 - val_loss: 0.0503 - val_acc: 0.9926\n",
      "Epoch 45/50\n",
      "33600/33600 [==============================] - 34s 1ms/step - loss: 0.0099 - acc: 0.9979 - val_loss: 0.0611 - val_acc: 0.9931\n",
      "Epoch 46/50\n",
      "33600/33600 [==============================] - 35s 1ms/step - loss: 0.0094 - acc: 0.9980 - val_loss: 0.0591 - val_acc: 0.9923\n",
      "Epoch 47/50\n",
      "33600/33600 [==============================] - 33s 991us/step - loss: 0.0107 - acc: 0.9975 - val_loss: 0.0644 - val_acc: 0.9920\n",
      "Epoch 48/50\n",
      "33600/33600 [==============================] - 33s 989us/step - loss: 0.0124 - acc: 0.9973 - val_loss: 0.0535 - val_acc: 0.9937\n",
      "Epoch 49/50\n",
      "33600/33600 [==============================] - 34s 1ms/step - loss: 0.0127 - acc: 0.9974 - val_loss: 0.0633 - val_acc: 0.9917\n",
      "Epoch 50/50\n",
      "33600/33600 [==============================] - 35s 1ms/step - loss: 0.0087 - acc: 0.9976 - val_loss: 0.0728 - val_acc: 0.9923\n"
     ]
    }
   ],
   "source": [
    "cnn_history = cnn.fit(X_train.reshape(-1,28,28,1), y_train, epochs=50, validation_split=0.2)"
   ]
  },
  {
   "cell_type": "code",
   "execution_count": 71,
   "metadata": {},
   "outputs": [],
   "source": [
    "acc = cnn_history.history['acc']\n",
    "val_acc = cnn_history.history['val_acc']\n",
    "epochs = range(1, len(acc)+1)"
   ]
  },
  {
   "cell_type": "code",
   "execution_count": 72,
   "metadata": {},
   "outputs": [
    {
     "data": {
      "text/plain": [
       "<matplotlib.legend.Legend at 0x12320db70>"
      ]
     },
     "execution_count": 72,
     "metadata": {},
     "output_type": "execute_result"
    },
    {
     "data": {
      "image/png": "[encoded data removed]",
      "text/plain": [
       "<matplotlib.figure.Figure at 0x12632d0b8>"
      ]
     },
     "metadata": {},
     "output_type": "display_data"
    }
   ],
   "source": [
    "plt.plot(epochs, acc, 'bo', label='Training acc')\n",
    "plt.plot(epochs, val_acc, 'b', label='Validation acc')\n",
    "plt.title('CNN')\n",
    "plt.xlabel('Epochs')\n",
    "plt.ylabel('Accuracy')\n",
    "plt.ylim([0.9,1])\n",
    "plt.legend()"
   ]
  },
  {
   "cell_type": "code",
   "execution_count": 73,
   "metadata": {},
   "outputs": [],
   "source": [
    "cnn.save('../save/cnn.h5')"
   ]
  },
  {
   "cell_type": "markdown",
   "metadata": {},
   "source": [
    "# Error analysis"
   ]
  },
  {
   "cell_type": "markdown",
   "metadata": {},
   "source": [
    "# Output"
   ]
  },
  {
   "cell_type": "code",
   "execution_count": 74,
   "metadata": {},
   "outputs": [
    {
     "name": "stdout",
     "output_type": "stream",
     "text": [
      "Epoch 1/10\n",
      "42000/42000 [==============================] - 33s 776us/step - loss: 0.0291 - acc: 0.9950\n",
      "Epoch 2/10\n",
      "42000/42000 [==============================] - 33s 796us/step - loss: 0.0219 - acc: 0.9956\n",
      "Epoch 3/10\n",
      "42000/42000 [==============================] - 34s 821us/step - loss: 0.0160 - acc: 0.9965\n",
      "Epoch 4/10\n",
      "42000/42000 [==============================] - 37s 889us/step - loss: 0.0150 - acc: 0.9971\n",
      "Epoch 5/10\n",
      "42000/42000 [==============================] - 39s 920us/step - loss: 0.0153 - acc: 0.9970\n",
      "Epoch 6/10\n",
      "42000/42000 [==============================] - 47s 1ms/step - loss: 0.0180 - acc: 0.9967\n",
      "Epoch 7/10\n",
      "42000/42000 [==============================] - 39s 938us/step - loss: 0.0149 - acc: 0.9969\n",
      "Epoch 8/10\n",
      "42000/42000 [==============================] - 39s 939us/step - loss: 0.0125 - acc: 0.9973\n",
      "Epoch 9/10\n",
      "42000/42000 [==============================] - 37s 877us/step - loss: 0.0140 - acc: 0.9971\n",
      "Epoch 10/10\n",
      "42000/42000 [==============================] - 39s 940us/step - loss: 0.0160 - acc: 0.9972\n"
     ]
    },
    {
     "data": {
      "text/plain": [
       "<tensorflow.python.keras.callbacks.History at 0x12321f940>"
      ]
     },
     "execution_count": 74,
     "metadata": {},
     "output_type": "execute_result"
    }
   ],
   "source": [
    "cnn.fit(X_train.reshape(-1,28,28,1), y_train, epochs=10)"
   ]
  },
  {
   "cell_type": "code",
   "execution_count": 77,
   "metadata": {},
   "outputs": [],
   "source": [
    "results = pd.Series(cnn.predict(X_test.reshape(-1,28,28,1)).argmax(axis=-1), name=\"Label\")\n",
    "submission = pd.concat([pd.Series(range(1,28001),name = \"ImageId\"), results], axis = 1)\n",
    "submission.to_csv(\"../save/predict_cnn.csv\",index=False)"
   ]
  },
  {
   "cell_type": "code",
   "execution_count": null,
   "metadata": {},
   "outputs": [],
   "source": []
  }
 ],
 "metadata": {
  "kernelspec": {
   "display_name": "Python 3",
   "language": "python",
   "name": "python3"
  },
  "language_info": {
   "codemirror_mode": {
    "name": "ipython",
    "version": 3
   },
   "file_extension": ".py",
   "mimetype": "text/x-python",
   "name": "python",
   "nbconvert_exporter": "python",
   "pygments_lexer": "ipython3",
   "version": "3.6.0"
  },
  "toc": {
   "base_numbering": 1,
   "nav_menu": {},
   "number_sections": true,
   "sideBar": true,
   "skip_h1_title": false,
   "title_cell": "Table of Contents",
   "title_sidebar": "Contents",
   "toc_cell": false,
   "toc_position": {},
   "toc_section_display": true,
   "toc_window_display": true
  }
 },
 "nbformat": 4,
 "nbformat_minor": 2
}
